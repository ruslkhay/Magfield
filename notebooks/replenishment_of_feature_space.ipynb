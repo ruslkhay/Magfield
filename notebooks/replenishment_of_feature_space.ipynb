{
 "cells": [
  {
   "cell_type": "code",
   "execution_count": null,
   "metadata": {},
   "outputs": [],
   "source": [
    "# Allows you to use modified modules without rebooting the kernel\n",
    "%load_ext autoreload\n",
    "%autoreload 2"
   ]
  },
  {
   "cell_type": "code",
   "execution_count": null,
   "metadata": {},
   "outputs": [],
   "source": [
    "import pandas as pd\n",
    "\n",
    "from statsmodels.tsa.api import VAR\n",
    "from plotly.express import line"
   ]
  },
  {
   "cell_type": "markdown",
   "metadata": {},
   "source": [
    "I will use VAR method for forecasting time series. In future LSTM usage is possible.\n",
    "\n",
    "General ideas. \n",
    "Me can observe $$a_k, b_k, p_k => a(t_k), b(t_k)$$.\n",
    "Moreover we can calculate two more statistical series. Where one of them is one dimensional, \n",
    "but other is M-dimensional."
   ]
  },
  {
   "cell_type": "markdown",
   "metadata": {},
   "source": [
    "# 1. Load up data"
   ]
  },
  {
   "cell_type": "code",
   "execution_count": null,
   "metadata": {},
   "outputs": [],
   "source": [
    "magData = pd.read_csv(\"../src/datasets/2020_ydhm_id.csv\")\n",
    "magData.dropna(inplace=True)\n",
    "\n",
    "N = 36_000  # units in sec so it's 10 hours\n",
    "# Get subset of original dataset\n",
    "dataset = magData.iloc[:N]\n",
    "dataset.index = pd.DatetimeIndex(dataset[\"ydhm_id\"])\n",
    "dataset = dataset.drop(columns=[\"ydhm_id\"])\n",
    "# Free space\n",
    "del magData\n",
    "\n",
    "dataset.diff().head()"
   ]
  },
  {
   "cell_type": "markdown",
   "metadata": {},
   "source": [
    "# 2. Apply VAR model on Bx series with different replenishment."
   ]
  },
  {
   "cell_type": "markdown",
   "metadata": {},
   "source": [
    "First of all we need to calculate new series. Therefore run cells below."
   ]
  },
  {
   "cell_type": "code",
   "execution_count": null,
   "metadata": {},
   "outputs": [],
   "source": [
    "dataset.diff()"
   ]
  },
  {
   "cell_type": "code",
   "execution_count": null,
   "metadata": {},
   "outputs": [],
   "source": [
    "from magfield.em.mixture import DynamicMixture\n",
    "from tensorflow_probability import distributions\n",
    "\n",
    "TIME = dataset.index.values\n",
    "WINDOW = (4200, 1)\n",
    "\n",
    "mix_dBX = DynamicMixture(\n",
    "    num_comps=3,\n",
    "    distrib=distributions.Normal,\n",
    "    time_span=TIME,\n",
    "    window_shape=WINDOW,\n",
    ")\n",
    "\n",
    "dBx = dataset.diff()[\"Bx\"].dropna().values\n",
    "mix_dBX.predict_light(data=dBx)\n",
    "\n",
    "# Get rid of unaccounted (useless) counts\n",
    "dataset = dataset.iloc[WINDOW[0] :]"
   ]
  },
  {
   "cell_type": "code",
   "execution_count": null,
   "metadata": {},
   "outputs": [],
   "source": [
    "mix_dBX.show_parameters()"
   ]
  },
  {
   "cell_type": "code",
   "execution_count": null,
   "metadata": {},
   "outputs": [],
   "source": [
    "a, b = mix_dBX.reconstruct_process_coef()\n",
    "line(a)"
   ]
  },
  {
   "cell_type": "code",
   "execution_count": null,
   "metadata": {},
   "outputs": [],
   "source": [
    "print(len(a), len(dataset[\"Bx\"]), len(mix_dBX.parameters[\"probs\"]))"
   ]
  },
  {
   "cell_type": "code",
   "execution_count": null,
   "metadata": {},
   "outputs": [],
   "source": [
    "dataset[\"a_k\"] = mix_dBX.parameters[\"mus\"]\n",
    "dataset[\"b_k\"] = mix_dBX.parameters[\"sigmas\"]\n",
    "dataset[\"p_k\"] = mix_dBX.parameters[\"probs\"]\n",
    "\n",
    "dataset[\"a_t\"] = a\n",
    "dataset[\"b_t\"] = b\n",
    "dataset.head()"
   ]
  },
  {
   "cell_type": "code",
   "execution_count": null,
   "metadata": {},
   "outputs": [],
   "source": [
    "dataset.head()"
   ]
  },
  {
   "cell_type": "code",
   "execution_count": null,
   "metadata": {},
   "outputs": [],
   "source": [
    "# make a VAR model\n",
    "model = VAR(dataset)"
   ]
  },
  {
   "cell_type": "code",
   "execution_count": null,
   "metadata": {},
   "outputs": [],
   "source": [
    "resultVAR = model.fit(maxlags=2)\n",
    "resultVAR.summary()\n",
    "# resultVAR.plot()  # Optionally plot all dataset series"
   ]
  }
 ],
 "metadata": {
  "kernelspec": {
   "display_name": ".venv",
   "language": "python",
   "name": "python3"
  },
  "language_info": {
   "codemirror_mode": {
    "name": "ipython",
    "version": 3
   },
   "file_extension": ".py",
   "mimetype": "text/x-python",
   "name": "python",
   "nbconvert_exporter": "python",
   "pygments_lexer": "ipython3",
   "version": "3.10.12"
  }
 },
 "nbformat": 4,
 "nbformat_minor": 2
}
