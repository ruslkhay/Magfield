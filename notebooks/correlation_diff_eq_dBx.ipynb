{
 "cells": [
  {
   "cell_type": "code",
   "execution_count": null,
   "metadata": {},
   "outputs": [],
   "source": [
    "import pandas as pd\n",
    "import numpy as np\n",
    "import tensorflow_probability\n",
    "import plotly.io as pio\n",
    "import sys\n",
    "from src.em.mixture import DynamicMixture\n",
    "from plotly.express import line\n",
    "\n",
    "pio.renderers.default = \"notebook\"\n",
    "# caution: path[0] is reserved for script path (or '' in REPL)\n",
    "sys.path.insert(1, \"/home/oplora/Documents/VMK/Dissertation/Magfield\")\n",
    "\n",
    "# Позволяет использовать измененные модули без перезагрузки ядра\n",
    "%load_ext autoreload\n",
    "%autoreload 2"
   ]
  },
  {
   "cell_type": "markdown",
   "metadata": {},
   "source": [
    "# Mixtures of normal lows and coefficients of stochastic differential equations    "
   ]
  },
  {
   "cell_type": "markdown",
   "metadata": {},
   "source": [
    "Assume that each time series is a mixture of __3__ normal lows.\n",
    "Plots below represents reconstruction of stochastic coefficients for process:\n",
    "$$ \\delta X(t) = a(t) \\delta t + b(t) \\delta W ,$$ \n",
    "where X(t) stands for each ($B, dB, V, dV$) components projections.\n",
    "\n",
    "Reconstruction was provided by EM-algorithm with Kolmogorov-Smirnov test, a.k.a.\n",
    "\"EM without dying variances\" with sliding window's. Last one was next\n",
    "parameters: step is __1 minute__, length is __3 days__.\n"
   ]
  },
  {
   "cell_type": "markdown",
   "metadata": {},
   "source": [
    "**Assumption**: I'll drop out all `nan` values out of data."
   ]
  },
  {
   "cell_type": "markdown",
   "metadata": {},
   "source": [
    "## Mixtures of normal lows"
   ]
  },
  {
   "cell_type": "code",
   "execution_count": null,
   "metadata": {},
   "outputs": [],
   "source": [
    "data = pd.read_csv(\n",
    "    \"/home/oplora/Documents/VMK/Dissertation/Magfield/Data/2020_ydhm_id.csv\"\n",
    ")"
   ]
  },
  {
   "cell_type": "code",
   "execution_count": null,
   "metadata": {},
   "outputs": [],
   "source": [
    "def increm(arr):\n",
    "    from math import nan\n",
    "\n",
    "    new_ar = [nan]\n",
    "    for i in range(1, len(arr)):\n",
    "        inc = arr[i] + arr[i - 1]\n",
    "        new_ar.append(inc)\n",
    "    return new_ar"
   ]
  },
  {
   "cell_type": "code",
   "execution_count": null,
   "metadata": {},
   "outputs": [],
   "source": [
    "cname = \"Vz\"\n",
    "dbx = data[cname][~np.isnan(data[cname])].values[::60]\n",
    "dbxe = np.cumsum(dbx)\n",
    "dbxe[0] = 0\n",
    "line(dict(cum_sum=dbxe), title=f\"Cumulative sum for {cname} per hour.\")"
   ]
  },
  {
   "cell_type": "code",
   "execution_count": null,
   "metadata": {},
   "outputs": [],
   "source": [
    "cname = \"Vx\"\n",
    "dbx = data[cname][~np.isnan(data[cname])].values[::60]\n",
    "line(dict(orig=dbx), title=f\"{cname} per hour\")"
   ]
  },
  {
   "cell_type": "code",
   "execution_count": null,
   "metadata": {},
   "outputs": [],
   "source": [
    "dbx = data[\"Vz\"][~np.isnan(data[\"Vz\"])].values\n",
    "dbxe = increm(dbx)\n",
    "dbxe[0] = 0\n",
    "line(dict(int=dbxe, orig=dbx))"
   ]
  },
  {
   "cell_type": "code",
   "execution_count": null,
   "metadata": {},
   "outputs": [],
   "source": [
    "comp_name = \"Vx\"\n",
    "mixt: DynamicMixture = DynamicMixture.load(\n",
    "    f\"/home/oplora/Documents/VMK/Dissertation/Magfield/Data/MyMixtures/{comp_name}_4320_5.pickle\"\n",
    ")"
   ]
  },
  {
   "cell_type": "code",
   "execution_count": null,
   "metadata": {},
   "outputs": [],
   "source": [
    "import plotly.graph_objects as go\n",
    "from plotly.subplots import make_subplots\n",
    "\n",
    "volat = mixt.process_volatility()\n",
    "\n",
    "# Create figure with secondary y-axis\n",
    "fig = make_subplots(specs=[[{\"secondary_y\": True}]])\n",
    "\n",
    "\n",
    "y1 = mixt.process_coefs[\"a\"]\n",
    "x1 = list(range(len(y1)))\n",
    "name1 = \"a(t)\"\n",
    "\n",
    "# Add traces\n",
    "fig.add_trace(\n",
    "    go.Scatter(x=x1, y=y1, name=name1),\n",
    "    secondary_y=False,\n",
    ")\n",
    "\n",
    "y2 = volat[\"diffusional\"]\n",
    "x2 = list(range(len(y2)))\n",
    "name2 = \"diffusional component\"\n",
    "\n",
    "fig.add_trace(\n",
    "    go.Scatter(x=x2, y=y2, name=name2),\n",
    "    secondary_y=True,\n",
    ")\n",
    "\n",
    "# Add figure title\n",
    "fig.update_layout(title_text=\"Volatility \" + f\"<b>{comp_name}</b>\")\n",
    "\n",
    "# Set x-axis title\n",
    "fig.update_xaxes(title_text=\"xaxis title\")\n",
    "\n",
    "# Set y-axes titles\n",
    "fig.update_yaxes(title_text=\"values of \" + name1, secondary_y=False)\n",
    "fig.update_yaxes(title_text=\"values of \" + name2, secondary_y=True)\n",
    "\n",
    "fig.show()"
   ]
  },
  {
   "cell_type": "code",
   "execution_count": null,
   "metadata": {},
   "outputs": [],
   "source": [
    "# Create figure with secondary y-axis\n",
    "fig = make_subplots(specs=[[{\"secondary_y\": True}]])\n",
    "\n",
    "\n",
    "y1 = volat[\"diffusional\"] + volat[\"dynamic\"]\n",
    "x1 = list(range(len(y1)))\n",
    "name1 = \"instant volatility\"\n",
    "\n",
    "# Add traces\n",
    "fig.add_trace(\n",
    "    go.Scatter(x=x1, y=y1, name=name1),\n",
    "    secondary_y=False,\n",
    ")\n",
    "\n",
    "y2 = mixt.process_coefs[\"b\"]\n",
    "x2 = list(range(len(y2)))\n",
    "name2 = \"b(t) square\"\n",
    "fig.add_trace(\n",
    "    go.Scatter(x=x2, y=y2, name=name2),\n",
    "    secondary_y=True,\n",
    ")\n",
    "\n",
    "# Add figure title\n",
    "fig.update_layout(\n",
    "    title_text=\"Instant volatility and b^2(t) for \" + f\"<b>{comp_name}</b>\"\n",
    ")\n",
    "\n",
    "# Set x-axis title\n",
    "fig.update_xaxes(title_text=\"xaxis title\")\n",
    "\n",
    "# Set y-axes titles\n",
    "fig.update_yaxes(title_text=\"values of \" + name1, secondary_y=False)\n",
    "fig.update_yaxes(title_text=\"values of \" + name2, secondary_y=True)\n",
    "\n",
    "fig.show()"
   ]
  },
  {
   "cell_type": "code",
   "execution_count": null,
   "metadata": {},
   "outputs": [],
   "source": [
    "# Extraction components names\n",
    "comp_names = data.columns.values\n",
    "comp_names = comp_names[~(comp_names == \"ydhm_id\")]\n",
    "\n",
    "TIME = data[\"ydhm_id\"].values\n",
    "SERIES = dict()  # Container for components values on chosen time span\n",
    "COLOR = dict(x=\"#1f77b4\", y=\"#ff7f0e\", z=\"#2ca02c\")\n",
    "\n",
    "for i, comp in enumerate(comp_names):\n",
    "    time_series = data[comp].values.copy()\n",
    "    SERIES[comp] = time_series  # Saving component values\n",
    "\n",
    "SERIES.keys()"
   ]
  },
  {
   "cell_type": "code",
   "execution_count": null,
   "metadata": {},
   "outputs": [],
   "source": [
    "window_size = 60 * 24 * 3 - 20  # 4320 minutes = 3 days\n",
    "\n",
    "current_series = SERIES[\"dBx\"]\n",
    "mixt = DynamicMixture(\n",
    "    num_comps=3,\n",
    "    distrib=tensorflow_probability.distributions.Normal,\n",
    "    time_span=TIME,\n",
    "    window_shape=(window_size, 120),\n",
    ")\n",
    "\n",
    "mixt.rewrite_as_normal_human_this_initialization(\n",
    "    random_seed=42, avr=np.mean(current_series)\n",
    ")\n",
    "mixt.predict_light(data=current_series[~np.isnan(current_series)])"
   ]
  },
  {
   "cell_type": "code",
   "execution_count": null,
   "metadata": {},
   "outputs": [],
   "source": [
    "a, b = mixt.reconstruct_process_coef()\n",
    "coefs = dict(a=a, b_square=b, b=np.sqrt(b))\n",
    "coefs_date = data[\"ydhm_id\"][~np.isnan(current_series)][\n",
    "    window_size // 2 : -window_size // 2 : 10\n",
    "]\n",
    "df_coefs = pd.DataFrame(coefs)"
   ]
  },
  {
   "cell_type": "markdown",
   "metadata": {},
   "source": [
    "## Comparison with Egor"
   ]
  },
  {
   "cell_type": "code",
   "execution_count": null,
   "metadata": {},
   "outputs": [],
   "source": [
    "import json\n",
    "\n",
    "# Opening JSON file\n",
    "with open(\n",
    "    \"/home/oplora/Documents/VMK/Dissertation/Magfield/EGOR_Bx_A.json\"\n",
    ") as json_file:\n",
    "    egor_a = json.load(json_file)\n",
    "egor_a = list(egor_a.values())\n",
    "with open(\n",
    "    \"/home/oplora/Documents/VMK/Dissertation/Magfield/EGOR_Bx_B.json\"\n",
    ") as json_file:\n",
    "    egor_b = json.load(json_file)\n",
    "egor_b = list(egor_b.values())"
   ]
  },
  {
   "cell_type": "code",
   "execution_count": null,
   "metadata": {},
   "outputs": [],
   "source": [
    "compare = dict(egor=egor_a, ruslan=a[:-1])\n",
    "line(compare).show()"
   ]
  },
  {
   "cell_type": "code",
   "execution_count": null,
   "metadata": {},
   "outputs": [],
   "source": [
    "mixt.show_parameters()"
   ]
  },
  {
   "cell_type": "code",
   "execution_count": null,
   "metadata": {},
   "outputs": [],
   "source": [
    "compare = dict(egor=egor_b, ruslan=np.sqrt(b[:-1]))\n",
    "line(compare).show()"
   ]
  },
  {
   "cell_type": "code",
   "execution_count": null,
   "metadata": {},
   "outputs": [],
   "source": [
    "line(\n",
    "    data_frame=df_coefs,\n",
    "    x=data[\"ydhm_id\"][::10][: len(a)],\n",
    "    y=[\"a\", \"b\", \"b_square\"],\n",
    "    title=\"Process coefficients for mixture dBx: 3 components, 4300 window width and 10 min step\",\n",
    ").show()"
   ]
  },
  {
   "cell_type": "code",
   "execution_count": null,
   "metadata": {},
   "outputs": [],
   "source": [
    "from numpy.lib.stride_tricks import sliding_window_view\n",
    "\n",
    "shift_corr = 6  # in ten's of minutes (check step in mixture)\n",
    "window_corr_size = 6 * 24  # in ten's of minutes (check step in mixture)\n",
    "\n",
    "a_t = sliding_window_view(coefs[\"a\"], window_shape=window_corr_size)[::shift_corr]\n",
    "\n",
    "b_t = sliding_window_view(coefs[\"b_square\"], window_shape=window_corr_size)[\n",
    "    ::shift_corr\n",
    "]\n",
    "dynamic_corr = {\"correlation\": []}\n",
    "for a, b in zip(a_t, b_t):\n",
    "    dynamic_corr[\"correlation\"].append(np.corrcoef(a, b)[0, 1])\n",
    "\n",
    "line(\n",
    "    x=coefs_date[window_corr_size // 2 : -window_corr_size // 2 : shift_corr],\n",
    "    y=dynamic_corr[\"correlation\"],\n",
    "    title=\"Correlation between a(t) and b^2(t) with window size 1 day (1440 min) and step 1 hour (60 min).\",\n",
    ")"
   ]
  },
  {
   "cell_type": "code",
   "execution_count": null,
   "metadata": {},
   "outputs": [],
   "source": [
    "shift_corr = 6  # in ten's of minutes (check step in mixture)\n",
    "window_corr_size = 6 * 24 * 7  # in ten's of minutes (check step in mixture)\n",
    "\n",
    "a_t = sliding_window_view(coefs[\"a\"], window_shape=window_corr_size)[::shift_corr]\n",
    "\n",
    "b_t = sliding_window_view(coefs[\"b_square\"], window_shape=window_corr_size)[\n",
    "    ::shift_corr\n",
    "]\n",
    "dynamic_corr = {\"correlation\": []}\n",
    "for a, b in zip(a_t, b_t):\n",
    "    dynamic_corr[\"correlation\"].append(np.corrcoef(a, b)[0, 1])\n",
    "\n",
    "line(\n",
    "    x=coefs_date[window_corr_size // 2 : -window_corr_size // 2 : shift_corr],\n",
    "    y=dynamic_corr[\"correlation\"],\n",
    "    title=\"Correlation between a(t) and b^2(t) with window size 1 week (10080 min) and step 1 hour (60 min).\",\n",
    ")"
   ]
  },
  {
   "cell_type": "code",
   "execution_count": null,
   "metadata": {},
   "outputs": [],
   "source": [
    "shift_corr = 6  # in ten's of minutes (check step in mixture)\n",
    "window_corr_size = 6 * 24 * 7 * 4  # in ten's of minutes (check step in mixture)\n",
    "\n",
    "a_t = sliding_window_view(coefs[\"a\"], window_shape=window_corr_size)[::shift_corr]\n",
    "\n",
    "b_t = sliding_window_view(coefs[\"b_square\"], window_shape=window_corr_size)[\n",
    "    ::shift_corr\n",
    "]\n",
    "dynamic_corr = {\"correlation\": []}\n",
    "for a, b in zip(a_t, b_t):\n",
    "    dynamic_corr[\"correlation\"].append(np.corrcoef(a, b)[0, 1])\n",
    "\n",
    "line(\n",
    "    x=coefs_date[window_corr_size // 2 : -window_corr_size // 2 : shift_corr],\n",
    "    y=dynamic_corr[\"correlation\"],\n",
    "    title=f\"Correlation between a(t) and b^2(t) with window size 1 month ({window_corr_size*10} min) and step 1 hour ({shift_corr*10} min).\",\n",
    ")"
   ]
  },
  {
   "cell_type": "code",
   "execution_count": null,
   "metadata": {},
   "outputs": [],
   "source": [
    "shift_corr = 6  # in ten's of minutes (check step in mixture)\n",
    "window_corr_size = 6 * 24 * 3  # in ten's of minutes (check step in mixture)\n",
    "\n",
    "a_t = sliding_window_view(coefs[\"a\"], window_shape=window_corr_size)[::shift_corr]\n",
    "\n",
    "b_t = sliding_window_view(coefs[\"b_square\"], window_shape=window_corr_size)[\n",
    "    ::shift_corr\n",
    "]\n",
    "dynamic_corr = {\"correlation\": []}\n",
    "for a, b in zip(a_t, b_t):\n",
    "    dynamic_corr[\"correlation\"].append(np.corrcoef(a, b)[0, 1])\n",
    "\n",
    "line(\n",
    "    x=coefs_date[window_corr_size // 2 : -window_corr_size // 2 : shift_corr],\n",
    "    y=dynamic_corr[\"correlation\"],\n",
    "    title=f\"Correlation between a(t) and b^2(t) with window size 3 days ({window_corr_size*10} min) and step 1 hour ({shift_corr*10} min).\",\n",
    ")"
   ]
  },
  {
   "cell_type": "code",
   "execution_count": null,
   "metadata": {},
   "outputs": [],
   "source": [
    "shift_corr = 6 * 12  # in ten's of minutes (check step in mixture)\n",
    "window_corr_size = 6 * 24 * 3  # in ten's of minutes (check step in mixture)\n",
    "\n",
    "a_t = sliding_window_view(coefs[\"a\"], window_shape=window_corr_size)[::shift_corr]\n",
    "\n",
    "b_t = sliding_window_view(coefs[\"b_square\"], window_shape=window_corr_size)[\n",
    "    ::shift_corr\n",
    "]\n",
    "dynamic_corr = {\"correlation\": []}\n",
    "for a, b in zip(a_t, b_t):\n",
    "    dynamic_corr[\"correlation\"].append(np.corrcoef(a, b)[0, 1])\n",
    "\n",
    "line(\n",
    "    x=coefs_date[window_corr_size // 2 : -window_corr_size // 2 : shift_corr],\n",
    "    y=dynamic_corr[\"correlation\"],\n",
    "    title=f\"Correlation between a(t) and b^2(t) with window size 3 days ({window_corr_size*10} min) and step 12 hour ({shift_corr*10} min).\",\n",
    ")"
   ]
  },
  {
   "cell_type": "code",
   "execution_count": null,
   "metadata": {},
   "outputs": [],
   "source": [
    "def smooth(data, wind_size=20):\n",
    "    from numpy.lib.stride_tricks import sliding_window_view\n",
    "    from numpy import mean\n",
    "\n",
    "    windows = sliding_window_view(data, wind_size)\n",
    "    smoothed = []\n",
    "    for wind in windows:\n",
    "        smoothed.append(mean(wind))\n",
    "    return smoothed"
   ]
  },
  {
   "cell_type": "code",
   "execution_count": null,
   "metadata": {},
   "outputs": [],
   "source": [
    "shift_corr = 6  # in ten's of minutes (check step in mixture)\n",
    "window_corr_size = 6 * 24 * 3  # in ten's of minutes (check step in mixture)\n",
    "\n",
    "a_t = sliding_window_view(coefs[\"a\"], window_shape=window_corr_size)[::shift_corr]\n",
    "\n",
    "b_t = sliding_window_view(coefs[\"b_square\"], window_shape=window_corr_size)[\n",
    "    ::shift_corr\n",
    "]\n",
    "dynamic_corr = {\"correlation\": []}\n",
    "for a, b in zip(a_t, b_t):\n",
    "    dynamic_corr[\"correlation\"].append(np.corrcoef(a, b)[0, 1])\n",
    "\n",
    "x_date = coefs_date[\n",
    "    (window_corr_size + 24 * shift_corr) // 2 : -(window_corr_size + 24 * shift_corr)\n",
    "    // 2\n",
    "    + 7 : shift_corr\n",
    "]\n",
    "line(\n",
    "    x=x_date,\n",
    "    y=smooth(dynamic_corr[\"correlation\"], 24),\n",
    "    title=f\"Correlation between a(t) and b^2(t) with window size 3 days ({window_corr_size*10} min) and step 1 hour ({shift_corr*10} min). Smoothed by 1 day (24 counts)\",\n",
    ")"
   ]
  },
  {
   "cell_type": "code",
   "execution_count": null,
   "metadata": {},
   "outputs": [],
   "source": [
    "window_size = 60 * 24 * 3  # 4320 minutes = 3 days\n",
    "\n",
    "current_series = SERIES[\"dBy\"]\n",
    "mixt = DynamicMixture(\n",
    "    num_comps=3,\n",
    "    distrib=tensorflow_probability.distributions.Normal,\n",
    "    time_span=TIME,\n",
    "    window_shape=(window_size, 10),\n",
    ")\n",
    "\n",
    "mixt.rewrite_as_normal_human_this_initialization(\n",
    "    random_seed=42, avr=np.mean(current_series)\n",
    ")\n",
    "mixt.predict_light(data=current_series[~np.isnan(current_series)])"
   ]
  },
  {
   "cell_type": "code",
   "execution_count": null,
   "metadata": {},
   "outputs": [],
   "source": [
    "a, b = mixt.reconstruct_process_coef()\n",
    "coefs = dict(a=a, b_square=b, b=np.sqrt(b))\n",
    "coefs_date = data[\"ydhm_id\"][~np.isnan(current_series)][\n",
    "    window_size // 2 : -window_size // 2 : 10\n",
    "]\n",
    "df_coefs = pd.DataFrame(coefs)"
   ]
  },
  {
   "cell_type": "code",
   "execution_count": null,
   "metadata": {},
   "outputs": [],
   "source": [
    "df_coefs.corr(method=\"pearson\")"
   ]
  },
  {
   "cell_type": "code",
   "execution_count": null,
   "metadata": {},
   "outputs": [],
   "source": [
    "line(\n",
    "    data_frame=df_coefs,\n",
    "    x=data[\"ydhm_id\"][::10][: len(a)],\n",
    "    y=[\"a\", \"b\", \"b_square\"],\n",
    "    title=\"Process coefficients for mixture <b>dBy</b>: 3 components, 4300 window width and 10 min step\",\n",
    ").show()"
   ]
  },
  {
   "cell_type": "code",
   "execution_count": null,
   "metadata": {},
   "outputs": [],
   "source": [
    "from numpy.lib.stride_tricks import sliding_window_view\n",
    "\n",
    "shift_corr = 6  # in ten's of minutes (check step in mixture)\n",
    "window_corr_size = 6 * 24  # in ten's of minutes (check step in mixture)\n",
    "\n",
    "a_t = sliding_window_view(coefs[\"a\"], window_shape=window_corr_size)[::shift_corr]\n",
    "\n",
    "b_t = sliding_window_view(coefs[\"b_square\"], window_shape=window_corr_size)[\n",
    "    ::shift_corr\n",
    "]\n",
    "dynamic_corr = {\"correlation\": []}\n",
    "for a, b in zip(a_t, b_t):\n",
    "    dynamic_corr[\"correlation\"].append(np.corrcoef(a, b)[0, 1])\n",
    "\n",
    "line(\n",
    "    x=coefs_date[window_corr_size // 2 : -window_corr_size // 2 : shift_corr],\n",
    "    y=dynamic_corr[\"correlation\"],\n",
    "    title=\"Correlation between a(t) and b^2(t) with window size 1 day (1440 min) and step 1 hour (60 min).\",\n",
    ")"
   ]
  },
  {
   "cell_type": "code",
   "execution_count": null,
   "metadata": {},
   "outputs": [],
   "source": [
    "shift_corr = 6  # in ten's of minutes (check step in mixture)\n",
    "window_corr_size = 6 * 24 * 7  # in ten's of minutes (check step in mixture)\n",
    "\n",
    "a_t = sliding_window_view(coefs[\"a\"], window_shape=window_corr_size)[::shift_corr]\n",
    "\n",
    "b_t = sliding_window_view(coefs[\"b_square\"], window_shape=window_corr_size)[\n",
    "    ::shift_corr\n",
    "]\n",
    "dynamic_corr = {\"correlation\": []}\n",
    "for a, b in zip(a_t, b_t):\n",
    "    dynamic_corr[\"correlation\"].append(np.corrcoef(a, b)[0, 1])\n",
    "\n",
    "line(\n",
    "    x=coefs_date[window_corr_size // 2 : -window_corr_size // 2 : shift_corr],\n",
    "    y=dynamic_corr[\"correlation\"],\n",
    "    title=\"Correlation between a(t) and b^2(t) with window size 1 week (10080 min) and step 1 hour (60 min).\",\n",
    ")"
   ]
  },
  {
   "cell_type": "code",
   "execution_count": null,
   "metadata": {},
   "outputs": [],
   "source": [
    "shift_corr = 6  # in ten's of minutes (check step in mixture)\n",
    "window_corr_size = 6 * 24 * 7 * 4  # in ten's of minutes (check step in mixture)\n",
    "\n",
    "a_t = sliding_window_view(coefs[\"a\"], window_shape=window_corr_size)[::shift_corr]\n",
    "\n",
    "b_t = sliding_window_view(coefs[\"b_square\"], window_shape=window_corr_size)[\n",
    "    ::shift_corr\n",
    "]\n",
    "dynamic_corr = {\"correlation\": []}\n",
    "for a, b in zip(a_t, b_t):\n",
    "    dynamic_corr[\"correlation\"].append(np.corrcoef(a, b)[0, 1])\n",
    "\n",
    "line(\n",
    "    x=coefs_date[window_corr_size // 2 : -window_corr_size // 2 : shift_corr],\n",
    "    y=dynamic_corr[\"correlation\"],\n",
    "    title=f\"Correlation between a(t) and b^2(t) with window size 1 month ({window_corr_size*10} min) and step 1 hour ({shift_corr*10} min).\",\n",
    ")"
   ]
  },
  {
   "cell_type": "code",
   "execution_count": null,
   "metadata": {},
   "outputs": [],
   "source": [
    "shift_corr = 6  # in ten's of minutes (check step in mixture)\n",
    "window_corr_size = 6 * 24 * 3  # in ten's of minutes (check step in mixture)\n",
    "\n",
    "a_t = sliding_window_view(coefs[\"a\"], window_shape=window_corr_size)[::shift_corr]\n",
    "\n",
    "b_t = sliding_window_view(coefs[\"b_square\"], window_shape=window_corr_size)[\n",
    "    ::shift_corr\n",
    "]\n",
    "dynamic_corr = {\"correlation\": []}\n",
    "for a, b in zip(a_t, b_t):\n",
    "    dynamic_corr[\"correlation\"].append(np.corrcoef(a, b)[0, 1])\n",
    "\n",
    "line(\n",
    "    x=coefs_date[window_corr_size // 2 : -window_corr_size // 2 : shift_corr],\n",
    "    y=dynamic_corr[\"correlation\"],\n",
    "    title=f\"Correlation between a(t) and b^2(t) with window size 3 days ({window_corr_size*10} min) and step 1 hour ({shift_corr*10} min).\",\n",
    ")"
   ]
  },
  {
   "cell_type": "code",
   "execution_count": null,
   "metadata": {},
   "outputs": [],
   "source": [
    "shift_corr = 6  # in ten's of minutes (check step in mixture)\n",
    "window_corr_size = 6 * 24 * 3  # in ten's of minutes (check step in mixture)\n",
    "\n",
    "a_t = sliding_window_view(coefs[\"a\"], window_shape=window_corr_size)[::shift_corr]\n",
    "\n",
    "b_t = sliding_window_view(coefs[\"b_square\"], window_shape=window_corr_size)[\n",
    "    ::shift_corr\n",
    "]\n",
    "dynamic_corr = {\"correlation\": []}\n",
    "for a, b in zip(a_t, b_t):\n",
    "    dynamic_corr[\"correlation\"].append(np.corrcoef(a, b)[0, 1])\n",
    "\n",
    "x_date = coefs_date[\n",
    "    (window_corr_size + 24 * shift_corr) // 2 : -(window_corr_size + 24 * shift_corr)\n",
    "    // 2\n",
    "    + 7 : shift_corr\n",
    "]\n",
    "line(\n",
    "    x=x_date,\n",
    "    y=smooth(dynamic_corr[\"correlation\"], 24),\n",
    "    title=f\"Correlation between a(t) and b^2(t) with window size 3 days ({window_corr_size*10} min) and step 1 hour ({shift_corr*10} min). Smoothed by 1 day (24 counts)\",\n",
    ")"
   ]
  },
  {
   "cell_type": "code",
   "execution_count": null,
   "metadata": {},
   "outputs": [],
   "source": [
    "window_size = 60 * 24 * 3  # 4320 minutes = 3 days\n",
    "\n",
    "current_series = SERIES[\"dBz\"]\n",
    "mixt = DynamicMixture(\n",
    "    num_comps=3,\n",
    "    distrib=tensorflow_probability.distributions.Normal,\n",
    "    time_span=TIME,\n",
    "    window_shape=(window_size, 10),\n",
    ")\n",
    "\n",
    "mixt.rewrite_as_normal_human_this_initialization(\n",
    "    random_seed=42, avr=np.mean(current_series)\n",
    ")\n",
    "mixt.predict_light(data=current_series[~np.isnan(current_series)])"
   ]
  },
  {
   "cell_type": "code",
   "execution_count": null,
   "metadata": {},
   "outputs": [],
   "source": [
    "a, b = mixt.reconstruct_process_coef()\n",
    "coefs = dict(a=a, b_square=b, b=np.sqrt(b))\n",
    "coefs_date = data[\"ydhm_id\"][~np.isnan(current_series)][\n",
    "    window_size // 2 : -window_size // 2 : 10\n",
    "]\n",
    "df_coefs = pd.DataFrame(coefs)"
   ]
  },
  {
   "cell_type": "code",
   "execution_count": null,
   "metadata": {},
   "outputs": [],
   "source": [
    "df_coefs.corr(method=\"pearson\")"
   ]
  },
  {
   "cell_type": "code",
   "execution_count": null,
   "metadata": {},
   "outputs": [],
   "source": [
    "line(\n",
    "    data_frame=df_coefs,\n",
    "    x=data[\"ydhm_id\"][::10][: len(a)],\n",
    "    y=[\"a\", \"b\", \"b_square\"],\n",
    "    title=\"Process coefficients for mixture <b>dBy</b>: 3 components, 4300 window width and 10 min step\",\n",
    ").show()"
   ]
  },
  {
   "cell_type": "code",
   "execution_count": null,
   "metadata": {},
   "outputs": [],
   "source": [
    "from numpy.lib.stride_tricks import sliding_window_view\n",
    "\n",
    "shift_corr = 6  # in ten's of minutes (check step in mixture)\n",
    "window_corr_size = 6 * 24  # in ten's of minutes (check step in mixture)\n",
    "\n",
    "a_t = sliding_window_view(coefs[\"a\"], window_shape=window_corr_size)[::shift_corr]\n",
    "\n",
    "b_t = sliding_window_view(coefs[\"b_square\"], window_shape=window_corr_size)[\n",
    "    ::shift_corr\n",
    "]\n",
    "dynamic_corr = {\"correlation\": []}\n",
    "for a, b in zip(a_t, b_t):\n",
    "    dynamic_corr[\"correlation\"].append(np.corrcoef(a, b)[0, 1])\n",
    "\n",
    "line(\n",
    "    x=coefs_date[window_corr_size // 2 : -window_corr_size // 2 : shift_corr],\n",
    "    y=dynamic_corr[\"correlation\"],\n",
    "    title=\"Correlation between a(t) and b^2(t) with window size 1 day (1440 min) and step 1 hour (60 min).\",\n",
    ")"
   ]
  },
  {
   "cell_type": "code",
   "execution_count": null,
   "metadata": {},
   "outputs": [],
   "source": [
    "shift_corr = 6  # in ten's of minutes (check step in mixture)\n",
    "window_corr_size = 6 * 24 * 7  # in ten's of minutes (check step in mixture)\n",
    "\n",
    "a_t = sliding_window_view(coefs[\"a\"], window_shape=window_corr_size)[::shift_corr]\n",
    "\n",
    "b_t = sliding_window_view(coefs[\"b_square\"], window_shape=window_corr_size)[\n",
    "    ::shift_corr\n",
    "]\n",
    "dynamic_corr = {\"correlation\": []}\n",
    "for a, b in zip(a_t, b_t):\n",
    "    dynamic_corr[\"correlation\"].append(np.corrcoef(a, b)[0, 1])\n",
    "\n",
    "line(\n",
    "    x=coefs_date[window_corr_size // 2 : -window_corr_size // 2 : shift_corr],\n",
    "    y=dynamic_corr[\"correlation\"],\n",
    "    title=\"Correlation between a(t) and b^2(t) with window size 1 week (10080 min) and step 1 hour (60 min).\",\n",
    ")"
   ]
  },
  {
   "cell_type": "code",
   "execution_count": null,
   "metadata": {},
   "outputs": [],
   "source": [
    "shift_corr = 6  # in ten's of minutes (check step in mixture)\n",
    "window_corr_size = 6 * 24 * 7 * 4  # in ten's of minutes (check step in mixture)\n",
    "\n",
    "a_t = sliding_window_view(coefs[\"a\"], window_shape=window_corr_size)[::shift_corr]\n",
    "\n",
    "b_t = sliding_window_view(coefs[\"b_square\"], window_shape=window_corr_size)[\n",
    "    ::shift_corr\n",
    "]\n",
    "dynamic_corr = {\"correlation\": []}\n",
    "for a, b in zip(a_t, b_t):\n",
    "    dynamic_corr[\"correlation\"].append(np.corrcoef(a, b)[0, 1])\n",
    "\n",
    "line(\n",
    "    x=coefs_date[window_corr_size // 2 : -window_corr_size // 2 : shift_corr],\n",
    "    y=dynamic_corr[\"correlation\"],\n",
    "    title=f\"Correlation between a(t) and b^2(t) with window size 1 month ({window_corr_size*10} min) and step 1 hour ({shift_corr*10} min).\",\n",
    ")"
   ]
  },
  {
   "cell_type": "code",
   "execution_count": null,
   "metadata": {},
   "outputs": [],
   "source": [
    "shift_corr = 6  # in ten's of minutes (check step in mixture)\n",
    "window_corr_size = 6 * 24 * 3  # in ten's of minutes (check step in mixture)\n",
    "\n",
    "a_t = sliding_window_view(coefs[\"a\"], window_shape=window_corr_size)[::shift_corr]\n",
    "\n",
    "b_t = sliding_window_view(coefs[\"b_square\"], window_shape=window_corr_size)[\n",
    "    ::shift_corr\n",
    "]\n",
    "dynamic_corr = {\"correlation\": []}\n",
    "for a, b in zip(a_t, b_t):\n",
    "    dynamic_corr[\"correlation\"].append(np.corrcoef(a, b)[0, 1])\n",
    "\n",
    "line(\n",
    "    x=coefs_date[window_corr_size // 2 : -window_corr_size // 2 : shift_corr],\n",
    "    y=dynamic_corr[\"correlation\"],\n",
    "    title=f\"Correlation between a(t) and b^2(t) with window size 3 days ({window_corr_size*10} min) and step 1 hour ({shift_corr*10} min).\",\n",
    ")"
   ]
  },
  {
   "cell_type": "code",
   "execution_count": null,
   "metadata": {},
   "outputs": [],
   "source": [
    "shift_corr = 6  # in ten's of minutes (check step in mixture)\n",
    "window_corr_size = 6 * 24 * 3  # in ten's of minutes (check step in mixture)\n",
    "\n",
    "a_t = sliding_window_view(coefs[\"a\"], window_shape=window_corr_size)[::shift_corr]\n",
    "\n",
    "b_t = sliding_window_view(coefs[\"b_square\"], window_shape=window_corr_size)[\n",
    "    ::shift_corr\n",
    "]\n",
    "dynamic_corr = {\"correlation\": []}\n",
    "for a, b in zip(a_t, b_t):\n",
    "    dynamic_corr[\"correlation\"].append(np.corrcoef(a, b)[0, 1])\n",
    "\n",
    "x_date = coefs_date[\n",
    "    (window_corr_size + 24 * shift_corr) // 2 : -(window_corr_size + 24 * shift_corr)\n",
    "    // 2\n",
    "    + 7 : shift_corr\n",
    "]\n",
    "line(\n",
    "    x=x_date,\n",
    "    y=smooth(dynamic_corr[\"correlation\"], 24),\n",
    "    title=f\"Correlation between a(t) and b^2(t) with window size 3 days ({window_corr_size*10} min) and step 1 hour ({shift_corr*10} min). Smoothed by 1 day (24 counts)\",\n",
    ")"
   ]
  }
 ],
 "metadata": {
  "kernelspec": {
   "display_name": ".venv",
   "language": "python",
   "name": "python3"
  },
  "language_info": {
   "codemirror_mode": {
    "name": "ipython",
    "version": 3
   },
   "file_extension": ".py",
   "mimetype": "text/x-python",
   "name": "python",
   "nbconvert_exporter": "python",
   "pygments_lexer": "ipython3",
   "version": "3.12.5"
  }
 },
 "nbformat": 4,
 "nbformat_minor": 2
}
