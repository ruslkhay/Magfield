{
 "cells": [
  {
   "cell_type": "code",
   "execution_count": null,
   "metadata": {},
   "outputs": [],
   "source": [
    "import pandas as pd\n",
    "import numpy as np\n",
    "import tensorflow_probability\n",
    "\n",
    "# from plotly.offline import init_notebook_mode\n",
    "import plotly.graph_objects as go\n",
    "import plotly.io as pio\n",
    "from plotly.express import line\n",
    "from src.em.mixture import DynamicMixture\n",
    "\n",
    "pio.renderers.default = \"notebook\"\n",
    "\n",
    "# Позволяет использовать измененные модули без перезагрузки ядра\n",
    "%load_ext autoreload\n",
    "%autoreload 2"
   ]
  },
  {
   "cell_type": "markdown",
   "metadata": {},
   "source": [
    "# Extracting data"
   ]
  },
  {
   "cell_type": "markdown",
   "metadata": {},
   "source": [
    "This is fresh data - 2020 year"
   ]
  },
  {
   "cell_type": "markdown",
   "metadata": {},
   "source": [
    "I use specific date format for nice visualization. So first of all \n",
    "it's necessary to check if giving data has all important columns for\n",
    "future work."
   ]
  },
  {
   "cell_type": "code",
   "execution_count": null,
   "metadata": {},
   "outputs": [],
   "source": [
    "from os.path import isfile\n",
    "\n",
    "# If data don't contain my date format column\n",
    "if not isfile(\"Data/2020_ydhm_id.csv\"):\n",
    "    data = pd.read_csv(\"Data/2020.csv\", na_values=[\"99999.9\", \"9999.99\"])\n",
    "\n",
    "    def time_related_id(dataframe):\n",
    "        from pandas import to_datetime\n",
    "\n",
    "        # Converter: day number into specific date\n",
    "        def day_to_date(day):\n",
    "            date = to_datetime(day, format=\"%j\")\n",
    "            return date.strftime(\"%m-%d\")\n",
    "\n",
    "        dataframe[\"Date\"] = dataframe[\"Day\"].apply(day_to_date)\n",
    "\n",
    "        # Converter for hours and minutes to proper representation\n",
    "        def format_value(value):\n",
    "            return f\"{value:02}\"\n",
    "\n",
    "        # Construct date column with specific format\n",
    "        def make_cell(row):\n",
    "            return str(\n",
    "                f\"{row['Year']}\"\n",
    "                + f\"-{row['Date']}\"\n",
    "                + f\"T{format_value(row['Hour'])}\"\n",
    "                + f\":{format_value(row['Minute'])}\"\n",
    "            )\n",
    "\n",
    "        dataframe[\"ydhm_id\"] = dataframe.apply(make_cell, axis=1)\n",
    "\n",
    "        # Get rid of useless columns\n",
    "        dataframe.drop([\"Year\", \"Day\", \"Hour\", \"Minute\", \"Date\"], axis=1, inplace=True)\n",
    "\n",
    "    time_related_id(data)\n",
    "    data[:525_600].to_csv(\"Data/2020_ydhm_id.csv\", index=False)\n",
    "\n",
    "else:\n",
    "    data = pd.read_csv(\"Data/2020_ydhm_id.csv\")"
   ]
  },
  {
   "cell_type": "markdown",
   "metadata": {},
   "source": [
    "Expand data with component's increments"
   ]
  },
  {
   "cell_type": "code",
   "execution_count": null,
   "metadata": {},
   "outputs": [],
   "source": [
    "def increm(arr):\n",
    "    \"\"\"\n",
    "    Calculate increments of given array.\n",
    "    First value is NaN by default\n",
    "    \"\"\"\n",
    "    new_ar = [None]\n",
    "    for i in range(1, len(arr)):\n",
    "        inc = arr[i] - arr[i - 1]\n",
    "        new_ar.append(inc)\n",
    "    return new_ar\n",
    "\n",
    "\n",
    "data[\"dBx\"] = increm(data[\"Bx\"].values)\n",
    "data[\"dBy\"] = increm(data[\"By\"].values)\n",
    "data[\"dBz\"] = increm(data[\"Bz\"].values)\n",
    "data[\"dVx\"] = increm(data[\"Vx\"].values)\n",
    "data[\"dVy\"] = increm(data[\"Vy\"].values)\n",
    "data[\"dVz\"] = increm(data[\"Vz\"].values)"
   ]
  },
  {
   "cell_type": "code",
   "execution_count": null,
   "metadata": {},
   "outputs": [],
   "source": [
    "data"
   ]
  },
  {
   "cell_type": "markdown",
   "metadata": {},
   "source": [
    "But did we get all dates? The answer is yes."
   ]
  },
  {
   "cell_type": "code",
   "execution_count": null,
   "metadata": {},
   "outputs": [],
   "source": [
    "from datetime import datetime, timedelta\n",
    "\n",
    "# Convert dates to temporal format. That enables dates subtruction\n",
    "datetime_start = datetime.strptime(\"2023-01-01T00:00\", \"%Y-%m-%dT%H:%M\")\n",
    "datetime_end = datetime.strptime(\"2023-12-31T23:59\", \"%Y-%m-%dT%H:%M\")\n",
    "\n",
    "time_span = datetime_end - datetime_start\n",
    "num_min = int(time_span.total_seconds() / 60.0) + 1\n",
    "print(\n",
    "    f\"Number of minutes is {num_min}.\\nIt is equal to {(time_span+timedelta(seconds=60))} hours.\"\n",
    ")"
   ]
  },
  {
   "cell_type": "markdown",
   "metadata": {},
   "source": [
    "Now we can start the research"
   ]
  },
  {
   "cell_type": "markdown",
   "metadata": {},
   "source": [
    "# General overview of components"
   ]
  },
  {
   "cell_type": "code",
   "execution_count": null,
   "metadata": {},
   "outputs": [],
   "source": [
    "# Extraction components names\n",
    "comp_names = data.columns.values\n",
    "comp_names = comp_names[~(comp_names == \"ydhm_id\")]\n",
    "comp_names"
   ]
  },
  {
   "cell_type": "markdown",
   "metadata": {},
   "source": [
    "## Visualization"
   ]
  },
  {
   "cell_type": "markdown",
   "metadata": {},
   "source": [
    "There is no use of plotting all 500 000 points, so we'll limit observation by\n",
    "one point per hour"
   ]
  },
  {
   "cell_type": "code",
   "execution_count": null,
   "metadata": {},
   "outputs": [],
   "source": [
    "data_hourly = data[::60]\n",
    "data_hourly"
   ]
  },
  {
   "cell_type": "code",
   "execution_count": null,
   "metadata": {},
   "outputs": [],
   "source": [
    "from src.em.monitor import show_genral_info\n",
    "\n",
    "for comp in comp_names:\n",
    "    series = data_hourly[comp]\n",
    "    fig = show_genral_info(\n",
    "        series=series,\n",
    "        add_title=f\"Регулярность - один отсчет в час.\\n Пропусков в исходных данных - {sum(pd.isna(data[comp].values))}\",\n",
    "        add_xaxis=data_hourly[\"ydhm_id\"],\n",
    "    )\n",
    "    fig.update_layout(height=800)\n",
    "    # fig.show()\n",
    "\n",
    "\n",
    "del fig\n",
    "del series"
   ]
  },
  {
   "cell_type": "markdown",
   "metadata": {},
   "source": [
    "As we may notice amount of missing values for original components and \n",
    "their increments differs. This is a result of subtraction from `NaN` value\n",
    "recorder no-`NaN` value. Take a look on rows 1, 2 and 3 for components \n",
    "__V__ and their increments __dV__."
   ]
  },
  {
   "cell_type": "code",
   "execution_count": null,
   "metadata": {},
   "outputs": [],
   "source": [
    "data.head()"
   ]
  },
  {
   "cell_type": "markdown",
   "metadata": {},
   "source": [
    "## Histograms approximations"
   ]
  },
  {
   "cell_type": "markdown",
   "metadata": {},
   "source": [
    "I've used generalized laplace distribution from \n",
    "[scipy.stats](https://docs.scipy.org/doc/scipy/reference/generated/scipy.stats.gennorm.html)\n",
    "module and [article](https://www.mathnet.ru/links/611562f102eb3b9fd17ba6d59dc26199/ia230.pdf):\n",
    "\n",
    "$$\n",
    "f(x, \\beta) = \\frac{\\beta}{2\\Gamma (1 /\\beta)} \\cdot e^{-|x|^\\beta},\\newline \n",
    "\n",
    "\\text{where } x \\text{ is a real number }, \\beta > 0, \n",
    "\\Gamma \\text{ is the gamma function.}\n",
    "$$\n",
    "\n",
    "The dVx, dVy, dVz data were preprocessed:\n",
    "- Missing values were omitted \n",
    "- Outliers were cropped\n",
    "- <u><b>Zero values were omitted</b></u>\n",
    "\n",
    "Last assumption appeared because of the histogram view. There was enormous pick for zero value. Maybe some NASA's hardware errors"
   ]
  },
  {
   "cell_type": "code",
   "execution_count": null,
   "metadata": {},
   "outputs": [],
   "source": [
    "from scipy.stats import gennorm as laplace\n",
    "\n",
    "\n",
    "def filter_data(series, h0, h1):\n",
    "    \"\"\"Crop data based on given interval\"\"\"\n",
    "    filtered_data = series[(series >= h0) & (series <= h1)]\n",
    "    return filtered_data\n",
    "\n",
    "\n",
    "def params_to_str(params):\n",
    "    res = \"beta= {0}, math.exp.= {1}, std.div.= {2}\".format(\n",
    "        *list(map(lambda x: round(x, 4), params))\n",
    "    )\n",
    "    return res\n",
    "\n",
    "\n",
    "for comp_name in [\"dVx\", \"dVy\", \"dVz\"]:\n",
    "    nice_series = data[comp_name].values\n",
    "    nice_series = nice_series[~np.isnan(np.array(nice_series))]\n",
    "    nice_series = nice_series[~(nice_series == 0.0)]\n",
    "    nice_series = filter_data(nice_series, -25, 25)\n",
    "\n",
    "    fig = go.Figure()\n",
    "    fig.add_trace(\n",
    "        go.Histogram(\n",
    "            x=nice_series,\n",
    "            nbinsx=200,\n",
    "            histnorm=\"probability density\",\n",
    "            name=\"original data\",\n",
    "        )\n",
    "    )\n",
    "\n",
    "    distr_params = laplace.fit(nice_series)\n",
    "    x = np.linspace(np.min(nice_series), np.max(nice_series), 4000)\n",
    "    pdf_fitted = laplace.pdf(\n",
    "        x,\n",
    "        *distr_params,\n",
    "    )\n",
    "\n",
    "    fig.add_trace(go.Scatter(x=x, y=pdf_fitted, mode=\"lines\", name=\"gen. Laplace\"))\n",
    "    fig.update_layout(\n",
    "        title=dict(\n",
    "            text=f\"<b>{comp_name}</b> \\t\" + params_to_str(distr_params),\n",
    "            font=dict(size=26),\n",
    "        )\n",
    "    )\n",
    "    # fig.show()"
   ]
  },
  {
   "cell_type": "markdown",
   "metadata": {},
   "source": [
    "# Mixtures of normal lows and coefficients of stochastic differential equations    "
   ]
  },
  {
   "cell_type": "markdown",
   "metadata": {},
   "source": [
    "Assume that each time series is a mixture of __3__ normal lows.\n",
    "Plots below represents reconstruction of stochastic coefficients for process:\n",
    "$$ \\delta X(t) = a(t) \\delta t + b(t) \\delta W ,$$ \n",
    "where X(t) stands for each ($B, dB, V, dV$) components projections.\n",
    "\n",
    "Reconstruction was provided by EM-algorithm with Kolmogorov-Smirnov test, a.k.a.\n",
    "\"EM without dying variances\" with sliding window's. Last one was next\n",
    "parameters: step is __1 minute__, length is __3 days__.\n"
   ]
  },
  {
   "cell_type": "markdown",
   "metadata": {},
   "source": [
    "**Assumption**: I'll drop out all `nan` values out of data."
   ]
  },
  {
   "cell_type": "markdown",
   "metadata": {},
   "source": [
    "## Mixtures of normal lows"
   ]
  },
  {
   "cell_type": "code",
   "execution_count": null,
   "metadata": {},
   "outputs": [],
   "source": [
    "TIME = data[\"ydhm_id\"].values\n",
    "SERIES = dict()  # Container for components values on chosen time span\n",
    "COLOR = dict(x=\"#1f77b4\", y=\"#ff7f0e\", z=\"#2ca02c\")\n",
    "\n",
    "for i, comp in enumerate(comp_names):\n",
    "    time_series = data[comp].values.copy()\n",
    "    SERIES[comp] = time_series  # Saving component values\n",
    "\n",
    "SERIES.keys()"
   ]
  },
  {
   "cell_type": "code",
   "execution_count": null,
   "metadata": {},
   "outputs": [],
   "source": [
    "window_size = 60 * 24 * 3 - 20  # 4320 minutes = 3 days\n",
    "\n",
    "current_series = SERIES[\"dBx\"]\n",
    "mixt = DynamicMixture(\n",
    "    num_comps=3,\n",
    "    distrib=tensorflow_probability.distributions.Normal,\n",
    "    time_span=TIME,\n",
    "    window_shape=(window_size, 120),\n",
    ")\n",
    "\n",
    "mixt.rewrite_as_normal_human_this_initialization(\n",
    "    random_seed=42, avr=np.mean(current_series)\n",
    ")\n",
    "mixt.predict_light(data=current_series[~np.isnan(current_series)])"
   ]
  },
  {
   "cell_type": "code",
   "execution_count": null,
   "metadata": {},
   "outputs": [],
   "source": [
    "import pickle\n",
    "\n",
    "with open(\"dBx_coeffs.pickle\", \"wb\") as file:\n",
    "    pickle.dump(mixt.process_coefs, file)"
   ]
  },
  {
   "cell_type": "code",
   "execution_count": null,
   "metadata": {},
   "outputs": [],
   "source": [
    "with open(\"dBx_coeffs.pickle\", \"rb\") as file:\n",
    "    a = pickle.load(file)\n",
    "a"
   ]
  },
  {
   "cell_type": "code",
   "execution_count": null,
   "metadata": {},
   "outputs": [],
   "source": []
  },
  {
   "cell_type": "code",
   "execution_count": null,
   "metadata": {},
   "outputs": [],
   "source": [
    "from numpy.lib.stride_tricks import sliding_window_view\n",
    "\n",
    "windows = sliding_window_view(current_series[~np.isnan(current_series)], 4320)[::120]\n",
    "comparison = dict(mean=list(map(np.mean, windows)), a=mixt.process_coefs[\"a\"])"
   ]
  },
  {
   "cell_type": "code",
   "execution_count": null,
   "metadata": {},
   "outputs": [],
   "source": [
    "line(comparison)"
   ]
  },
  {
   "cell_type": "code",
   "execution_count": null,
   "metadata": {},
   "outputs": [],
   "source": [
    "mixt.show_parameters()"
   ]
  },
  {
   "cell_type": "code",
   "execution_count": null,
   "metadata": {},
   "outputs": [],
   "source": [
    "import pickle\n",
    "\n",
    "pickle.dump(mixt.reconstruct_process_coef(), \"dBx\")"
   ]
  },
  {
   "cell_type": "code",
   "execution_count": null,
   "metadata": {},
   "outputs": [],
   "source": [
    "print(mixt)"
   ]
  },
  {
   "cell_type": "code",
   "execution_count": null,
   "metadata": {},
   "outputs": [],
   "source": [
    "mixt.save(file_name=\"dBx_4300_60\", path=\"Data/MyMixtures\")"
   ]
  },
  {
   "cell_type": "code",
   "execution_count": null,
   "metadata": {},
   "outputs": [],
   "source": [
    "data[\"dBx\"]"
   ]
  },
  {
   "cell_type": "code",
   "execution_count": null,
   "metadata": {},
   "outputs": [],
   "source": [
    "print(mixt)"
   ]
  },
  {
   "cell_type": "code",
   "execution_count": null,
   "metadata": {},
   "outputs": [],
   "source": [
    "test: DynamicMixture = DynamicMixture.load(\"Data/MyMixtures/dBx_4300_60.pickle\")"
   ]
  },
  {
   "cell_type": "code",
   "execution_count": null,
   "metadata": {},
   "outputs": [],
   "source": [
    "a, b = mixt.reconstruct_process_coef()\n",
    "coefs = dict(a=a, b_square=b, b=np.sqrt(b))\n",
    "coefs_date = data[\"ydhm_id\"][~np.isnan(current_series)][\n",
    "    window_size // 2 : -window_size // 2 : 10\n",
    "]\n",
    "df_coefs = pd.DataFrame(coefs)"
   ]
  },
  {
   "cell_type": "code",
   "execution_count": null,
   "metadata": {},
   "outputs": [],
   "source": [
    "df_coefs.corr(method=\"pearson\")"
   ]
  },
  {
   "cell_type": "code",
   "execution_count": null,
   "metadata": {},
   "outputs": [],
   "source": [
    "line(\n",
    "    data_frame=df_coefs,\n",
    "    x=data[\"ydhm_id\"][::10][: len(a)],\n",
    "    y=[\"a\", \"b\", \"b_square\"],\n",
    "    title=\"Process coefficients for mixture dBx: 3 components, 4300 window width and 10 min step\",\n",
    ").show()"
   ]
  },
  {
   "cell_type": "code",
   "execution_count": null,
   "metadata": {},
   "outputs": [],
   "source": [
    "from numpy.lib.stride_tricks import sliding_window_view\n",
    "\n",
    "shift_corr = 6  # in ten's of minutes (check step in mixture)\n",
    "window_corr_size = 6 * 24  # in ten's of minutes (check step in mixture)\n",
    "\n",
    "a_t = sliding_window_view(coefs[\"a\"], window_shape=window_corr_size)[::shift_corr]\n",
    "\n",
    "b_t = sliding_window_view(coefs[\"b_square\"], window_shape=window_corr_size)[\n",
    "    ::shift_corr\n",
    "]\n",
    "dynamic_corr = {\"correlation\": []}\n",
    "for a, b in zip(a_t, b_t):\n",
    "    dynamic_corr[\"correlation\"].append(np.corrcoef(a, b)[0, 1])\n",
    "\n",
    "line(\n",
    "    x=coefs_date[window_corr_size // 2 : -window_corr_size // 2 : shift_corr],\n",
    "    y=dynamic_corr[\"correlation\"],\n",
    "    title=\"Correlation between a(t) and b^2(t) with window size 1 day (1440 min) and step 1 hour (60 min).\",\n",
    ")"
   ]
  },
  {
   "cell_type": "code",
   "execution_count": null,
   "metadata": {},
   "outputs": [],
   "source": [
    "shift_corr = 6  # in ten's of minutes (check step in mixture)\n",
    "window_corr_size = 6 * 24 * 7  # in ten's of minutes (check step in mixture)\n",
    "\n",
    "a_t = sliding_window_view(coefs[\"a\"], window_shape=window_corr_size)[::shift_corr]\n",
    "\n",
    "b_t = sliding_window_view(coefs[\"b_square\"], window_shape=window_corr_size)[\n",
    "    ::shift_corr\n",
    "]\n",
    "dynamic_corr = {\"correlation\": []}\n",
    "for a, b in zip(a_t, b_t):\n",
    "    dynamic_corr[\"correlation\"].append(np.corrcoef(a, b)[0, 1])\n",
    "\n",
    "line(\n",
    "    x=coefs_date[window_corr_size // 2 : -window_corr_size // 2 : shift_corr],\n",
    "    y=dynamic_corr[\"correlation\"],\n",
    "    title=\"Correlation between a(t) and b^2(t) with window size 1 week (10080 min) and step 1 hour (60 min).\",\n",
    ")"
   ]
  },
  {
   "cell_type": "code",
   "execution_count": null,
   "metadata": {},
   "outputs": [],
   "source": [
    "shift_corr = 6  # in ten's of minutes (check step in mixture)\n",
    "window_corr_size = 6 * 24 * 7 * 4  # in ten's of minutes (check step in mixture)\n",
    "\n",
    "a_t = sliding_window_view(coefs[\"a\"], window_shape=window_corr_size)[::shift_corr]\n",
    "\n",
    "b_t = sliding_window_view(coefs[\"b_square\"], window_shape=window_corr_size)[\n",
    "    ::shift_corr\n",
    "]\n",
    "dynamic_corr = {\"correlation\": []}\n",
    "for a, b in zip(a_t, b_t):\n",
    "    dynamic_corr[\"correlation\"].append(np.corrcoef(a, b)[0, 1])\n",
    "\n",
    "line(\n",
    "    x=coefs_date[window_corr_size // 2 : -window_corr_size // 2 : shift_corr],\n",
    "    y=dynamic_corr[\"correlation\"],\n",
    "    title=f\"Correlation between a(t) and b^2(t) with window size 1 month ({window_corr_size*10} min) and step 1 hour ({shift_corr*10} min).\",\n",
    ")"
   ]
  },
  {
   "cell_type": "code",
   "execution_count": null,
   "metadata": {},
   "outputs": [],
   "source": [
    "shift_corr = 6  # in ten's of minutes (check step in mixture)\n",
    "window_corr_size = 6 * 24 * 3  # in ten's of minutes (check step in mixture)\n",
    "\n",
    "a_t = sliding_window_view(coefs[\"a\"], window_shape=window_corr_size)[::shift_corr]\n",
    "\n",
    "b_t = sliding_window_view(coefs[\"b_square\"], window_shape=window_corr_size)[\n",
    "    ::shift_corr\n",
    "]\n",
    "dynamic_corr = {\"correlation\": []}\n",
    "for a, b in zip(a_t, b_t):\n",
    "    dynamic_corr[\"correlation\"].append(np.corrcoef(a, b)[0, 1])\n",
    "\n",
    "line(\n",
    "    x=coefs_date[window_corr_size // 2 : -window_corr_size // 2 : shift_corr],\n",
    "    y=dynamic_corr[\"correlation\"],\n",
    "    title=f\"Correlation between a(t) and b^2(t) with window size 3 days ({window_corr_size*10} min) and step 1 hour ({shift_corr*10} min).\",\n",
    ")"
   ]
  },
  {
   "cell_type": "code",
   "execution_count": null,
   "metadata": {},
   "outputs": [],
   "source": [
    "shift_corr = 6 * 12  # in ten's of minutes (check step in mixture)\n",
    "window_corr_size = 6 * 24 * 3  # in ten's of minutes (check step in mixture)\n",
    "\n",
    "a_t = sliding_window_view(coefs[\"a\"], window_shape=window_corr_size)[::shift_corr]\n",
    "\n",
    "b_t = sliding_window_view(coefs[\"b_square\"], window_shape=window_corr_size)[\n",
    "    ::shift_corr\n",
    "]\n",
    "dynamic_corr = {\"correlation\": []}\n",
    "for a, b in zip(a_t, b_t):\n",
    "    dynamic_corr[\"correlation\"].append(np.corrcoef(a, b)[0, 1])\n",
    "\n",
    "line(\n",
    "    x=coefs_date[window_corr_size // 2 : -window_corr_size // 2 : shift_corr],\n",
    "    y=dynamic_corr[\"correlation\"],\n",
    "    title=f\"Correlation between a(t) and b^2(t) with window size 3 days ({window_corr_size*10} min) and step 12 hour ({shift_corr*10} min).\",\n",
    ")"
   ]
  },
  {
   "cell_type": "code",
   "execution_count": null,
   "metadata": {},
   "outputs": [],
   "source": [
    "def smooth(data, wind_size=20):\n",
    "    from numpy.lib.stride_tricks import sliding_window_view\n",
    "    from numpy import mean\n",
    "\n",
    "    windows = sliding_window_view(data, wind_size)\n",
    "    smoothed = []\n",
    "    for wind in windows:\n",
    "        smoothed.append(mean(wind))\n",
    "    return smoothed"
   ]
  },
  {
   "cell_type": "code",
   "execution_count": null,
   "metadata": {},
   "outputs": [],
   "source": [
    "shift_corr = 6  # in ten's of minutes (check step in mixture)\n",
    "window_corr_size = 6 * 24 * 3  # in ten's of minutes (check step in mixture)\n",
    "\n",
    "a_t = sliding_window_view(coefs[\"a\"], window_shape=window_corr_size)[::shift_corr]\n",
    "\n",
    "b_t = sliding_window_view(coefs[\"b_square\"], window_shape=window_corr_size)[\n",
    "    ::shift_corr\n",
    "]\n",
    "dynamic_corr = {\"correlation\": []}\n",
    "for a, b in zip(a_t, b_t):\n",
    "    dynamic_corr[\"correlation\"].append(np.corrcoef(a, b)[0, 1])\n",
    "\n",
    "x_date = coefs_date[\n",
    "    (window_corr_size + 24 * shift_corr) // 2 : -(window_corr_size + 24 * shift_corr)\n",
    "    // 2\n",
    "    + 7 : shift_corr\n",
    "]\n",
    "line(\n",
    "    x=x_date,\n",
    "    y=smooth(dynamic_corr[\"correlation\"], 24),\n",
    "    title=f\"Correlation between a(t) and b^2(t) with window size 3 days ({window_corr_size*10} min) and step 1 hour ({shift_corr*10} min). Smoothed by 1 day (24 counts)\",\n",
    ")"
   ]
  },
  {
   "cell_type": "code",
   "execution_count": null,
   "metadata": {},
   "outputs": [],
   "source": [
    "window_size = 60 * 24 * 3  # 4320 minutes = 3 days\n",
    "\n",
    "current_series = SERIES[\"dBy\"]\n",
    "mixt = DynamicMixture(\n",
    "    num_comps=3,\n",
    "    distrib=tensorflow_probability.distributions.Normal,\n",
    "    time_span=TIME,\n",
    "    window_shape=(window_size, 10),\n",
    ")\n",
    "\n",
    "mixt.rewrite_as_normal_human_this_initialization(\n",
    "    random_seed=42, avr=np.mean(current_series)\n",
    ")\n",
    "mixt.predict_light(data=current_series[~np.isnan(current_series)])"
   ]
  },
  {
   "cell_type": "code",
   "execution_count": null,
   "metadata": {},
   "outputs": [],
   "source": [
    "a, b = mixt.reconstruct_process_coef()\n",
    "coefs = dict(a=a, b_square=b, b=np.sqrt(b))\n",
    "coefs_date = data[\"ydhm_id\"][~np.isnan(current_series)][\n",
    "    window_size // 2 : -window_size // 2 : 10\n",
    "]\n",
    "df_coefs = pd.DataFrame(coefs)"
   ]
  },
  {
   "cell_type": "code",
   "execution_count": null,
   "metadata": {},
   "outputs": [],
   "source": [
    "df_coefs.corr(method=\"pearson\")"
   ]
  },
  {
   "cell_type": "code",
   "execution_count": null,
   "metadata": {},
   "outputs": [],
   "source": [
    "line(\n",
    "    data_frame=df_coefs,\n",
    "    x=data[\"ydhm_id\"][::10][: len(a)],\n",
    "    y=[\"a\", \"b\", \"b_square\"],\n",
    "    title=\"Process coefficients for mixture <b>dBy</b>: 3 components, 4300 window width and 10 min step\",\n",
    ").show()"
   ]
  },
  {
   "cell_type": "code",
   "execution_count": null,
   "metadata": {},
   "outputs": [],
   "source": [
    "from numpy.lib.stride_tricks import sliding_window_view\n",
    "\n",
    "shift_corr = 6  # in ten's of minutes (check step in mixture)\n",
    "window_corr_size = 6 * 24  # in ten's of minutes (check step in mixture)\n",
    "\n",
    "a_t = sliding_window_view(coefs[\"a\"], window_shape=window_corr_size)[::shift_corr]\n",
    "\n",
    "b_t = sliding_window_view(coefs[\"b_square\"], window_shape=window_corr_size)[\n",
    "    ::shift_corr\n",
    "]\n",
    "dynamic_corr = {\"correlation\": []}\n",
    "for a, b in zip(a_t, b_t):\n",
    "    dynamic_corr[\"correlation\"].append(np.corrcoef(a, b)[0, 1])\n",
    "\n",
    "line(\n",
    "    x=coefs_date[window_corr_size // 2 : -window_corr_size // 2 : shift_corr],\n",
    "    y=dynamic_corr[\"correlation\"],\n",
    "    title=\"Correlation between a(t) and b^2(t) with window size 1 day (1440 min) and step 1 hour (60 min).\",\n",
    ")"
   ]
  },
  {
   "cell_type": "code",
   "execution_count": null,
   "metadata": {},
   "outputs": [],
   "source": [
    "shift_corr = 6  # in ten's of minutes (check step in mixture)\n",
    "window_corr_size = 6 * 24 * 7  # in ten's of minutes (check step in mixture)\n",
    "\n",
    "a_t = sliding_window_view(coefs[\"a\"], window_shape=window_corr_size)[::shift_corr]\n",
    "\n",
    "b_t = sliding_window_view(coefs[\"b_square\"], window_shape=window_corr_size)[\n",
    "    ::shift_corr\n",
    "]\n",
    "dynamic_corr = {\"correlation\": []}\n",
    "for a, b in zip(a_t, b_t):\n",
    "    dynamic_corr[\"correlation\"].append(np.corrcoef(a, b)[0, 1])\n",
    "\n",
    "line(\n",
    "    x=coefs_date[window_corr_size // 2 : -window_corr_size // 2 : shift_corr],\n",
    "    y=dynamic_corr[\"correlation\"],\n",
    "    title=\"Correlation between a(t) and b^2(t) with window size 1 week (10080 min) and step 1 hour (60 min).\",\n",
    ")"
   ]
  },
  {
   "cell_type": "code",
   "execution_count": null,
   "metadata": {},
   "outputs": [],
   "source": [
    "shift_corr = 6  # in ten's of minutes (check step in mixture)\n",
    "window_corr_size = 6 * 24 * 7 * 4  # in ten's of minutes (check step in mixture)\n",
    "\n",
    "a_t = sliding_window_view(coefs[\"a\"], window_shape=window_corr_size)[::shift_corr]\n",
    "\n",
    "b_t = sliding_window_view(coefs[\"b_square\"], window_shape=window_corr_size)[\n",
    "    ::shift_corr\n",
    "]\n",
    "dynamic_corr = {\"correlation\": []}\n",
    "for a, b in zip(a_t, b_t):\n",
    "    dynamic_corr[\"correlation\"].append(np.corrcoef(a, b)[0, 1])\n",
    "\n",
    "line(\n",
    "    x=coefs_date[window_corr_size // 2 : -window_corr_size // 2 : shift_corr],\n",
    "    y=dynamic_corr[\"correlation\"],\n",
    "    title=f\"Correlation between a(t) and b^2(t) with window size 1 month ({window_corr_size*10} min) and step 1 hour ({shift_corr*10} min).\",\n",
    ")"
   ]
  },
  {
   "cell_type": "code",
   "execution_count": null,
   "metadata": {},
   "outputs": [],
   "source": [
    "shift_corr = 6  # in ten's of minutes (check step in mixture)\n",
    "window_corr_size = 6 * 24 * 3  # in ten's of minutes (check step in mixture)\n",
    "\n",
    "a_t = sliding_window_view(coefs[\"a\"], window_shape=window_corr_size)[::shift_corr]\n",
    "\n",
    "b_t = sliding_window_view(coefs[\"b_square\"], window_shape=window_corr_size)[\n",
    "    ::shift_corr\n",
    "]\n",
    "dynamic_corr = {\"correlation\": []}\n",
    "for a, b in zip(a_t, b_t):\n",
    "    dynamic_corr[\"correlation\"].append(np.corrcoef(a, b)[0, 1])\n",
    "\n",
    "line(\n",
    "    x=coefs_date[window_corr_size // 2 : -window_corr_size // 2 : shift_corr],\n",
    "    y=dynamic_corr[\"correlation\"],\n",
    "    title=f\"Correlation between a(t) and b^2(t) with window size 3 days ({window_corr_size*10} min) and step 1 hour ({shift_corr*10} min).\",\n",
    ")"
   ]
  },
  {
   "cell_type": "code",
   "execution_count": null,
   "metadata": {},
   "outputs": [],
   "source": [
    "shift_corr = 6  # in ten's of minutes (check step in mixture)\n",
    "window_corr_size = 6 * 24 * 3  # in ten's of minutes (check step in mixture)\n",
    "\n",
    "a_t = sliding_window_view(coefs[\"a\"], window_shape=window_corr_size)[::shift_corr]\n",
    "\n",
    "b_t = sliding_window_view(coefs[\"b_square\"], window_shape=window_corr_size)[\n",
    "    ::shift_corr\n",
    "]\n",
    "dynamic_corr = {\"correlation\": []}\n",
    "for a, b in zip(a_t, b_t):\n",
    "    dynamic_corr[\"correlation\"].append(np.corrcoef(a, b)[0, 1])\n",
    "\n",
    "x_date = coefs_date[\n",
    "    (window_corr_size + 24 * shift_corr) // 2 : -(window_corr_size + 24 * shift_corr)\n",
    "    // 2\n",
    "    + 7 : shift_corr\n",
    "]\n",
    "line(\n",
    "    x=x_date,\n",
    "    y=smooth(dynamic_corr[\"correlation\"], 24),\n",
    "    title=f\"Correlation between a(t) and b^2(t) with window size 3 days ({window_corr_size*10} min) and step 1 hour ({shift_corr*10} min). Smoothed by 1 day (24 counts)\",\n",
    ")"
   ]
  },
  {
   "cell_type": "code",
   "execution_count": null,
   "metadata": {},
   "outputs": [],
   "source": [
    "window_size = 60 * 24 * 3  # 4320 minutes = 3 days\n",
    "\n",
    "current_series = SERIES[\"dBz\"]\n",
    "mixt = DynamicMixture(\n",
    "    num_comps=3,\n",
    "    distrib=tensorflow_probability.distributions.Normal,\n",
    "    time_span=TIME,\n",
    "    window_shape=(window_size, 10),\n",
    ")\n",
    "\n",
    "mixt.rewrite_as_normal_human_this_initialization(\n",
    "    random_seed=42, avr=np.mean(current_series)\n",
    ")\n",
    "mixt.predict_light(data=current_series[~np.isnan(current_series)])"
   ]
  },
  {
   "cell_type": "code",
   "execution_count": null,
   "metadata": {},
   "outputs": [],
   "source": [
    "a, b = mixt.reconstruct_process_coef()\n",
    "coefs = dict(a=a, b_square=b, b=np.sqrt(b))\n",
    "coefs_date = data[\"ydhm_id\"][~np.isnan(current_series)][\n",
    "    window_size // 2 : -window_size // 2 : 10\n",
    "]\n",
    "df_coefs = pd.DataFrame(coefs)"
   ]
  },
  {
   "cell_type": "code",
   "execution_count": null,
   "metadata": {},
   "outputs": [],
   "source": [
    "df_coefs.corr(method=\"pearson\")"
   ]
  },
  {
   "cell_type": "code",
   "execution_count": null,
   "metadata": {},
   "outputs": [],
   "source": [
    "line(\n",
    "    data_frame=df_coefs,\n",
    "    x=data[\"ydhm_id\"][::10][: len(a)],\n",
    "    y=[\"a\", \"b\", \"b_square\"],\n",
    "    title=\"Process coefficients for mixture <b>dBy</b>: 3 components, 4300 window width and 10 min step\",\n",
    ").show()"
   ]
  },
  {
   "cell_type": "code",
   "execution_count": null,
   "metadata": {},
   "outputs": [],
   "source": [
    "from numpy.lib.stride_tricks import sliding_window_view\n",
    "\n",
    "shift_corr = 6  # in ten's of minutes (check step in mixture)\n",
    "window_corr_size = 6 * 24  # in ten's of minutes (check step in mixture)\n",
    "\n",
    "a_t = sliding_window_view(coefs[\"a\"], window_shape=window_corr_size)[::shift_corr]\n",
    "\n",
    "b_t = sliding_window_view(coefs[\"b_square\"], window_shape=window_corr_size)[\n",
    "    ::shift_corr\n",
    "]\n",
    "dynamic_corr = {\"correlation\": []}\n",
    "for a, b in zip(a_t, b_t):\n",
    "    dynamic_corr[\"correlation\"].append(np.corrcoef(a, b)[0, 1])\n",
    "\n",
    "line(\n",
    "    x=coefs_date[window_corr_size // 2 : -window_corr_size // 2 : shift_corr],\n",
    "    y=dynamic_corr[\"correlation\"],\n",
    "    title=\"Correlation between a(t) and b^2(t) with window size 1 day (1440 min) and step 1 hour (60 min).\",\n",
    ")"
   ]
  },
  {
   "cell_type": "code",
   "execution_count": null,
   "metadata": {},
   "outputs": [],
   "source": [
    "shift_corr = 6  # in ten's of minutes (check step in mixture)\n",
    "window_corr_size = 6 * 24 * 7  # in ten's of minutes (check step in mixture)\n",
    "\n",
    "a_t = sliding_window_view(coefs[\"a\"], window_shape=window_corr_size)[::shift_corr]\n",
    "\n",
    "b_t = sliding_window_view(coefs[\"b_square\"], window_shape=window_corr_size)[\n",
    "    ::shift_corr\n",
    "]\n",
    "dynamic_corr = {\"correlation\": []}\n",
    "for a, b in zip(a_t, b_t):\n",
    "    dynamic_corr[\"correlation\"].append(np.corrcoef(a, b)[0, 1])\n",
    "\n",
    "line(\n",
    "    x=coefs_date[window_corr_size // 2 : -window_corr_size // 2 : shift_corr],\n",
    "    y=dynamic_corr[\"correlation\"],\n",
    "    title=\"Correlation between a(t) and b^2(t) with window size 1 week (10080 min) and step 1 hour (60 min).\",\n",
    ")"
   ]
  },
  {
   "cell_type": "code",
   "execution_count": null,
   "metadata": {},
   "outputs": [],
   "source": [
    "shift_corr = 6  # in ten's of minutes (check step in mixture)\n",
    "window_corr_size = 6 * 24 * 7 * 4  # in ten's of minutes (check step in mixture)\n",
    "\n",
    "a_t = sliding_window_view(coefs[\"a\"], window_shape=window_corr_size)[::shift_corr]\n",
    "\n",
    "b_t = sliding_window_view(coefs[\"b_square\"], window_shape=window_corr_size)[\n",
    "    ::shift_corr\n",
    "]\n",
    "dynamic_corr = {\"correlation\": []}\n",
    "for a, b in zip(a_t, b_t):\n",
    "    dynamic_corr[\"correlation\"].append(np.corrcoef(a, b)[0, 1])\n",
    "\n",
    "line(\n",
    "    x=coefs_date[window_corr_size // 2 : -window_corr_size // 2 : shift_corr],\n",
    "    y=dynamic_corr[\"correlation\"],\n",
    "    title=f\"Correlation between a(t) and b^2(t) with window size 1 month ({window_corr_size*10} min) and step 1 hour ({shift_corr*10} min).\",\n",
    ")"
   ]
  },
  {
   "cell_type": "code",
   "execution_count": null,
   "metadata": {},
   "outputs": [],
   "source": [
    "shift_corr = 6  # in ten's of minutes (check step in mixture)\n",
    "window_corr_size = 6 * 24 * 3  # in ten's of minutes (check step in mixture)\n",
    "\n",
    "a_t = sliding_window_view(coefs[\"a\"], window_shape=window_corr_size)[::shift_corr]\n",
    "\n",
    "b_t = sliding_window_view(coefs[\"b_square\"], window_shape=window_corr_size)[\n",
    "    ::shift_corr\n",
    "]\n",
    "dynamic_corr = {\"correlation\": []}\n",
    "for a, b in zip(a_t, b_t):\n",
    "    dynamic_corr[\"correlation\"].append(np.corrcoef(a, b)[0, 1])\n",
    "\n",
    "line(\n",
    "    x=coefs_date[window_corr_size // 2 : -window_corr_size // 2 : shift_corr],\n",
    "    y=dynamic_corr[\"correlation\"],\n",
    "    title=f\"Correlation between a(t) and b^2(t) with window size 3 days ({window_corr_size*10} min) and step 1 hour ({shift_corr*10} min).\",\n",
    ")"
   ]
  },
  {
   "cell_type": "code",
   "execution_count": null,
   "metadata": {},
   "outputs": [],
   "source": [
    "shift_corr = 6  # in ten's of minutes (check step in mixture)\n",
    "window_corr_size = 6 * 24 * 3  # in ten's of minutes (check step in mixture)\n",
    "\n",
    "a_t = sliding_window_view(coefs[\"a\"], window_shape=window_corr_size)[::shift_corr]\n",
    "\n",
    "b_t = sliding_window_view(coefs[\"b_square\"], window_shape=window_corr_size)[\n",
    "    ::shift_corr\n",
    "]\n",
    "dynamic_corr = {\"correlation\": []}\n",
    "for a, b in zip(a_t, b_t):\n",
    "    dynamic_corr[\"correlation\"].append(np.corrcoef(a, b)[0, 1])\n",
    "\n",
    "x_date = coefs_date[\n",
    "    (window_corr_size + 24 * shift_corr) // 2 : -(window_corr_size + 24 * shift_corr)\n",
    "    // 2\n",
    "    + 7 : shift_corr\n",
    "]\n",
    "line(\n",
    "    x=x_date,\n",
    "    y=smooth(dynamic_corr[\"correlation\"], 24),\n",
    "    title=f\"Correlation between a(t) and b^2(t) with window size 3 days ({window_corr_size*10} min) and step 1 hour ({shift_corr*10} min). Smoothed by 1 day (24 counts)\",\n",
    ")"
   ]
  }
 ],
 "metadata": {
  "kernelspec": {
   "display_name": ".venv",
   "language": "python",
   "name": "python3"
  },
  "language_info": {
   "codemirror_mode": {
    "name": "ipython",
    "version": 3
   },
   "file_extension": ".py",
   "mimetype": "text/x-python",
   "name": "python",
   "nbconvert_exporter": "python",
   "pygments_lexer": "ipython3",
   "version": "3.12.5"
  }
 },
 "nbformat": 4,
 "nbformat_minor": 2
}
